{
 "cells": [
  {
   "cell_type": "markdown",
   "id": "e1912a53",
   "metadata": {},
   "source": [
    "# 1. In the below elements which of them are values or an expression? eg:- values can be integer or string and expressions will be mathematical operators.\n"
   ]
  },
  {
   "cell_type": "code",
   "execution_count": 1,
   "id": "e595ec46",
   "metadata": {},
   "outputs": [],
   "source": [
    "#VALUES= hello,-87.8,6\n",
    "#EXPRESSION=*,-,/,+"
   ]
  },
  {
   "cell_type": "markdown",
   "id": "ec4f993d",
   "metadata": {},
   "source": [
    "# 2. What is the difference between string and variable?"
   ]
  },
  {
   "cell_type": "code",
   "execution_count": 2,
   "id": "4bd27cee",
   "metadata": {},
   "outputs": [],
   "source": [
    "#A string is a sequence of characters that can represent text, A variable is a name that can refer to any value"
   ]
  },
  {
   "cell_type": "markdown",
   "id": "fb393a59",
   "metadata": {},
   "source": [
    "# 3.Describe three different data types"
   ]
  },
  {
   "cell_type": "code",
   "execution_count": 22,
   "id": "e0c9e82d",
   "metadata": {},
   "outputs": [],
   "source": [
    "#NUMERIC:The numeric data type in Python represents the data that has a numeric value. A numeric value can be an integer,\n",
    "#a floating number, or even a complex number. \n",
    "\n",
    "#SEQUENCE: The sequence Data Type in Python is the ordered collection of similar or different data types.for eg:list,tuple\n",
    "\n",
    "#BOLLEAN:Data type with one of the two built-in values, True or False. Boolean objects that are equal to True are truthy (true)\n",
    "# and those equal to False are falsy (false)."
   ]
  },
  {
   "cell_type": "markdown",
   "id": "8ba732c7",
   "metadata": {},
   "source": [
    "# 4. What is an expression made up of? What do all expressions do?"
   ]
  },
  {
   "cell_type": "code",
   "execution_count": 23,
   "id": "ca440a38",
   "metadata": {},
   "outputs": [],
   "source": [
    "#An expression is a combination of operators, constants and variables\n",
    "\n",
    "#what dode do?:In any programming language, an expression is evaluated as per the precedence of its operators. So that if there\n",
    "#is more than one operator in an expression, their precedence decides which operation will be performed first."
   ]
  },
  {
   "cell_type": "markdown",
   "id": "6e241521",
   "metadata": {},
   "source": [
    "expression vs statement\n"
   ]
  },
  {
   "cell_type": "markdown",
   "id": "a592ad04",
   "metadata": {},
   "source": [
    "# 5. This assignment statements, like spam = 10. What is the difference between an expression and a statement?\n"
   ]
  },
  {
   "cell_type": "code",
   "execution_count": 26,
   "id": "d2111dbd",
   "metadata": {},
   "outputs": [],
   "source": [
    "#A statement performs some action for eg:print(\"ineuron\")\n",
    "#An expression evaluates to some value for eg: \"ineuron\""
   ]
  },
  {
   "cell_type": "markdown",
   "id": "bcded413",
   "metadata": {},
   "source": [
    "# 6. After running the following code, what does the variable bacon contain?"
   ]
  },
  {
   "cell_type": "code",
   "execution_count": 28,
   "id": "6f827124",
   "metadata": {},
   "outputs": [
    {
     "data": {
      "text/plain": [
       "23"
      ]
     },
     "execution_count": 28,
     "metadata": {},
     "output_type": "execute_result"
    }
   ],
   "source": [
    "#variable bacon will result to 22 only bcoz in orde to increment bacon by 1 we need to reasign it to bacon \n",
    "#we can do the following:\n",
    "bacon=22\n",
    "bacon=bacon+1\n",
    "bacon"
   ]
  },
  {
   "cell_type": "markdown",
   "id": "a3d9c261",
   "metadata": {},
   "source": [
    "# 7. What should the values of the following two terms be?"
   ]
  },
  {
   "cell_type": "code",
   "execution_count": 29,
   "id": "23681099",
   "metadata": {},
   "outputs": [],
   "source": [
    "#'spamspamspam'\n",
    "#'spamspamspam'"
   ]
  },
  {
   "cell_type": "markdown",
   "id": "db2b4e96",
   "metadata": {},
   "source": [
    "# 8. Why is eggs a valid variable name while 100 is invalid?"
   ]
  },
  {
   "cell_type": "code",
   "execution_count": 31,
   "id": "3bbae538",
   "metadata": {},
   "outputs": [],
   "source": [
    "#variable names cannot begin with a number"
   ]
  },
  {
   "cell_type": "markdown",
   "id": "747869e9",
   "metadata": {},
   "source": [
    "# 9. What three functions can be used to get the integer, floating-point number, or string version of a value?"
   ]
  },
  {
   "cell_type": "code",
   "execution_count": 32,
   "id": "cc7c039c",
   "metadata": {},
   "outputs": [],
   "source": [
    "#int()\n",
    "#float()\n",
    "#str()"
   ]
  },
  {
   "cell_type": "markdown",
   "id": "d44c4a9e",
   "metadata": {},
   "source": [
    "# 10. Why does this expression cause an error? How can you fix it?"
   ]
  },
  {
   "cell_type": "markdown",
   "id": "f6e1b106",
   "metadata": {},
   "source": [
    "\"i have eaten\" + 99 + \"burritos\""
   ]
  },
  {
   "cell_type": "code",
   "execution_count": 21,
   "id": "2f13e4c9",
   "metadata": {},
   "outputs": [],
   "source": [
    "#bcoz u cant concatenate string with integer\n",
    "#\"i hav eaten\"+\"99\"+\"burritos\""
   ]
  },
  {
   "cell_type": "code",
   "execution_count": null,
   "id": "728fcff0",
   "metadata": {},
   "outputs": [],
   "source": []
  }
 ],
 "metadata": {
  "kernelspec": {
   "display_name": "Python 3 (ipykernel)",
   "language": "python",
   "name": "python3"
  },
  "language_info": {
   "codemirror_mode": {
    "name": "ipython",
    "version": 3
   },
   "file_extension": ".py",
   "mimetype": "text/x-python",
   "name": "python",
   "nbconvert_exporter": "python",
   "pygments_lexer": "ipython3",
   "version": "3.10.9"
  }
 },
 "nbformat": 4,
 "nbformat_minor": 5
}

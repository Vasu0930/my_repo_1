{
 "cells": [
  {
   "cell_type": "markdown",
   "id": "a967d546",
   "metadata": {},
   "source": [
    "# 1. In Python, what is the difference between a built-in function and a user-defined function? Provide an example of each.\n",
    "\n",
    "Built in functions"
   ]
  },
  {
   "cell_type": "code",
   "execution_count": 4,
   "id": "3c789da7",
   "metadata": {},
   "outputs": [],
   "source": [
    "#Functions that comes along with python that are already defined are known as built in functions\n",
    "#For eg: len() function which return length of a object for eg: len(\"abcd\") will give 4\n"
   ]
  },
  {
   "cell_type": "code",
   "execution_count": 7,
   "id": "fc9cf2e3",
   "metadata": {},
   "outputs": [
    {
     "data": {
      "text/plain": [
       "4"
      ]
     },
     "execution_count": 7,
     "metadata": {},
     "output_type": "execute_result"
    }
   ],
   "source": [
    "len(\"abcd\")"
   ]
  },
  {
   "cell_type": "markdown",
   "id": "79412e71",
   "metadata": {},
   "source": [
    "User definde functions"
   ]
  },
  {
   "cell_type": "code",
   "execution_count": 8,
   "id": "732cf091",
   "metadata": {},
   "outputs": [],
   "source": [
    "#Functions that we define by ourselves to do a specific task are known as user defined functions \n",
    "#in python we use def keyword to define a funtion\n",
    "# For eg heres a function named add that returns sum of two input numbers"
   ]
  },
  {
   "cell_type": "code",
   "execution_count": 9,
   "id": "058ece56",
   "metadata": {},
   "outputs": [],
   "source": [
    "def add(x,y):\n",
    "    return x+y"
   ]
  },
  {
   "cell_type": "code",
   "execution_count": 11,
   "id": "b2ccf5dd",
   "metadata": {},
   "outputs": [
    {
     "data": {
      "text/plain": [
       "11"
      ]
     },
     "execution_count": 11,
     "metadata": {},
     "output_type": "execute_result"
    }
   ],
   "source": [
    "add(5,6)"
   ]
  },
  {
   "cell_type": "markdown",
   "id": "808b3d5b",
   "metadata": {},
   "source": [
    "# 2.How can you pass arguments to a function in Python? Explain the difference between positional arguments and keyword arguments.\n"
   ]
  },
  {
   "cell_type": "code",
   "execution_count": 12,
   "id": "46740a05",
   "metadata": {},
   "outputs": [],
   "source": [
    "#Arguments are passed after the function name inside the paranthesis with each argument being separated by commas i.e\n",
    "#def f_name(arg1,arg2,.....,argn)"
   ]
  },
  {
   "cell_type": "markdown",
   "id": "caedb31c",
   "metadata": {},
   "source": [
    "positional vs keyword argument"
   ]
  },
  {
   "cell_type": "code",
   "execution_count": 2,
   "id": "bb6fec60",
   "metadata": {},
   "outputs": [],
   "source": [
    "#A positional argument is a name that is not followed by an equal sign and default value.\n",
    "#A keyword argument is followed by an equal sign and an expression that gives its default value.\n"
   ]
  },
  {
   "cell_type": "markdown",
   "id": "fdcf62f0",
   "metadata": {},
   "source": [
    "# 3. What is the purpose of the return statement in a function? Can a function have multiple return statements? Explain with an example.\n"
   ]
  },
  {
   "cell_type": "code",
   "execution_count": 7,
   "id": "9e10bd68",
   "metadata": {},
   "outputs": [
    {
     "data": {
      "text/plain": [
       "'odd'"
      ]
     },
     "execution_count": 7,
     "metadata": {},
     "output_type": "execute_result"
    }
   ],
   "source": [
    "#The return statement ends function execution and specifies a value to be returned to the function caller.\n",
    "#Multiple return statements may exist in a function but onli the one that fulfils the specified condition first is executed.\n",
    "#for eg:\n",
    "\n",
    "def even_odd(x):\n",
    "    if x%2==0:\n",
    "        return \"even\"\n",
    "    else:\n",
    "        return \"odd\"\n",
    "    \n",
    "even_odd(5)\n"
   ]
  },
  {
   "cell_type": "code",
   "execution_count": 9,
   "id": "4d1a349f",
   "metadata": {},
   "outputs": [],
   "source": [
    "y=lambda x:x^2"
   ]
  },
  {
   "cell_type": "code",
   "execution_count": 11,
   "id": "52207fc9",
   "metadata": {},
   "outputs": [
    {
     "data": {
      "text/plain": [
       "6"
      ]
     },
     "execution_count": 11,
     "metadata": {},
     "output_type": "execute_result"
    }
   ],
   "source": [
    "y(4)"
   ]
  },
  {
   "cell_type": "markdown",
   "id": "b0af3804",
   "metadata": {},
   "source": [
    "# 4. What are lambda functions in Python? How are they different from regular functions? Provide an example where a lambda function can be useful."
   ]
  },
  {
   "cell_type": "code",
   "execution_count": 19,
   "id": "040a726d",
   "metadata": {},
   "outputs": [],
   "source": [
    "#Python Lambda Functions are anonymous function means that the function is without a name\n",
    "#lambda functions are defined using keyword \"lambda\" whereas regular functions are defiened using \"def keyword\" \n",
    "\n",
    "#for eg : lambda functions can be useful where code is not so lenghty bcoz otherwise using lambda for lengthy functions can \n",
    "#lead to readybility problems etc.\n",
    "\n",
    "y=lambda str1:str1.upper()"
   ]
  },
  {
   "cell_type": "code",
   "execution_count": 20,
   "id": "825cfe45",
   "metadata": {},
   "outputs": [
    {
     "data": {
      "text/plain": [
       "'A'"
      ]
     },
     "execution_count": 20,
     "metadata": {},
     "output_type": "execute_result"
    }
   ],
   "source": [
    "y(\"a\")"
   ]
  },
  {
   "cell_type": "markdown",
   "id": "8971e864",
   "metadata": {},
   "source": [
    "# 5. How does the concept of \"scope\" apply to functions in Python? Explain the difference between local scope and global scope."
   ]
  },
  {
   "cell_type": "code",
   "execution_count": 21,
   "id": "c6de2e0c",
   "metadata": {},
   "outputs": [],
   "source": [
    "#In Python, scope refers to the region of a program where a particular varaible is accessible. When we define a function, \n",
    "#the code inside it is indented and its scope changes to a new internal scope"
   ]
  },
  {
   "cell_type": "markdown",
   "id": "e647948f",
   "metadata": {},
   "source": [
    "LOCAL VS GLOBAL"
   ]
  },
  {
   "cell_type": "code",
   "execution_count": 22,
   "id": "42d8724d",
   "metadata": {},
   "outputs": [],
   "source": [
    "#The scope of a variable or function determines what code has access to it. Variables that are created inside a function are \n",
    "#local variables, and local variables can only be referred to by the code within the function. Variables created outside of \n",
    "#functions are global variables, and the code in all functions has access to all global variables."
   ]
  },
  {
   "cell_type": "markdown",
   "id": "a6c2435e",
   "metadata": {},
   "source": [
    "# 6. How can you use the \"return\" statement in a Python function to return multiple values?"
   ]
  },
  {
   "cell_type": "code",
   "execution_count": 23,
   "id": "2d17697e",
   "metadata": {},
   "outputs": [],
   "source": [
    "#A tuple with multiple values separated by commas in the return statement. The caller can use unpacking to access the values.\n",
    "#A list that contains multiple values in the return statement. The caller can use indexing or looping to access the values."
   ]
  },
  {
   "cell_type": "code",
   "execution_count": 26,
   "id": "a4d74a98",
   "metadata": {},
   "outputs": [],
   "source": [
    "#for eg:\n",
    "def func():\n",
    "    return 1,2,3"
   ]
  },
  {
   "cell_type": "markdown",
   "id": "8ef46009",
   "metadata": {},
   "source": [
    "# 7. What is the difference between the \"pass by value\" and \"pass by reference\" concepts when it comes to function arguments in Python?\n"
   ]
  },
  {
   "cell_type": "code",
   "execution_count": 27,
   "id": "3d4b2e51",
   "metadata": {},
   "outputs": [],
   "source": [
    "#Pass by reference means that you have to pass the function(reference) to a variable which refers that the variable already \n",
    "#exists in memory. \n",
    "#In this approach, we pass a copy of actual variables in function as a parameter. Hence any modification on parameters \n",
    "#inside the function will not reflect in the actual variable."
   ]
  },
  {
   "cell_type": "markdown",
   "id": "86a685f4",
   "metadata": {},
   "source": [
    "# 8. Create a function that can intake integer or decimal value and do following operations"
   ]
  },
  {
   "cell_type": "code",
   "execution_count": 31,
   "id": "14f620f7",
   "metadata": {},
   "outputs": [],
   "source": [
    "import math"
   ]
  },
  {
   "cell_type": "code",
   "execution_count": 32,
   "id": "b4b6f2dc",
   "metadata": {},
   "outputs": [],
   "source": [
    "#(a) Logarithmic function (log x)\n",
    "def log(x):\n",
    "    return math.log(x)"
   ]
  },
  {
   "cell_type": "code",
   "execution_count": 33,
   "id": "41ea0e9f",
   "metadata": {},
   "outputs": [],
   "source": [
    "#(b) Exponential function (exp(x))\n",
    "def exp(x):\n",
    "    return math.exp(x)"
   ]
  },
  {
   "cell_type": "code",
   "execution_count": 41,
   "id": "0380e61e",
   "metadata": {},
   "outputs": [],
   "source": [
    "#(c) Power function with base 2 \n",
    "def power_base2(x):\n",
    "    return 2**x"
   ]
  },
  {
   "cell_type": "code",
   "execution_count": 65,
   "id": "c452c4e8",
   "metadata": {},
   "outputs": [],
   "source": [
    "#(d) Square root\n",
    "def sqrt(x):\n",
    "    return x**0.5"
   ]
  },
  {
   "cell_type": "markdown",
   "id": "94791864",
   "metadata": {},
   "source": [
    "# 9. Create a function that takes a full name as an argument and returns first name and last name."
   ]
  },
  {
   "cell_type": "code",
   "execution_count": 62,
   "id": "84bd899a",
   "metadata": {},
   "outputs": [],
   "source": [
    "def func(name):\n",
    "    x=name.split()\n",
    "    f=x[0]\n",
    "    l=x[1]\n",
    "    return \"first name:\",f,\"last name:\",l\n",
    "                  "
   ]
  },
  {
   "cell_type": "code",
   "execution_count": null,
   "id": "d22fa1f7",
   "metadata": {},
   "outputs": [],
   "source": []
  },
  {
   "cell_type": "code",
   "execution_count": null,
   "id": "2cdab48a",
   "metadata": {},
   "outputs": [],
   "source": []
  },
  {
   "cell_type": "code",
   "execution_count": null,
   "id": "9927e4d5",
   "metadata": {},
   "outputs": [],
   "source": []
  }
 ],
 "metadata": {
  "kernelspec": {
   "display_name": "Python 3 (ipykernel)",
   "language": "python",
   "name": "python3"
  },
  "language_info": {
   "codemirror_mode": {
    "name": "ipython",
    "version": 3
   },
   "file_extension": ".py",
   "mimetype": "text/x-python",
   "name": "python",
   "nbconvert_exporter": "python",
   "pygments_lexer": "ipython3",
   "version": "3.10.9"
  }
 },
 "nbformat": 4,
 "nbformat_minor": 5
}
